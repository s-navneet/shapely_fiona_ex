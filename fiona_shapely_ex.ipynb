{
 "cells": [
  {
   "cell_type": "code",
   "execution_count": null,
   "metadata": {},
   "outputs": [],
   "source": [
    "#using fiona and shapely\n",
    "#fiona used for-> reading and writing the vector data\n",
    "#shapely used for-> modification and manupulation and analysis for vector data\n"
   ]
  },
  {
   "cell_type": "code",
   "execution_count": 3,
   "metadata": {},
   "outputs": [
    {
     "name": "stdout",
     "output_type": "stream",
     "text": [
      "Name: Shapely\n",
      "Version: 1.6.4.post1\n",
      "Summary: Geometric objects, predicates, and operations\n",
      "Home-page: https://github.com/Toblerity/Shapely\n",
      "Author: Sean Gillies\n",
      "Author-email: sean.gillies@gmail.com\n",
      "License: BSD\n",
      "Location: /home/navneet/anaconda3/lib/python3.7/site-packages\n",
      "Requires: \n",
      "Required-by: \n",
      "Note: you may need to restart the kernel to use updated packages.\n"
     ]
    }
   ],
   "source": [
    "pip show shapely #to show shapely is properly installed"
   ]
  },
  {
   "cell_type": "code",
   "execution_count": 5,
   "metadata": {},
   "outputs": [
    {
     "name": "stdout",
     "output_type": "stream",
     "text": [
      "Name: Fiona\n",
      "Version: 1.8.4\n",
      "Summary: Fiona reads and writes spatial data files\n",
      "Home-page: http://github.com/Toblerity/Fiona\n",
      "Author: Sean Gillies\n",
      "Author-email: sean.gillies@gmail.com\n",
      "License: BSD\n",
      "Location: /home/navneet/anaconda3/lib/python3.7/site-packages\n",
      "Requires: attrs, click, cligj, click-plugins, six, munch\n",
      "Required-by: \n",
      "Note: you may need to restart the kernel to use updated packages.\n"
     ]
    }
   ],
   "source": [
    "pip show fiona #to show fiona is properly installed"
   ]
  },
  {
   "cell_type": "code",
   "execution_count": 6,
   "metadata": {},
   "outputs": [],
   "source": [
    "#how to read the vector file\n",
    "#file may be in shape file format or geojason format\n",
    "import fiona"
   ]
  },
  {
   "cell_type": "code",
   "execution_count": 7,
   "metadata": {},
   "outputs": [
    {
     "data": {
      "text/plain": [
       "PosixPath('/home/navneet/Documents/shapetask/fiona_shapely_ex')"
      ]
     },
     "execution_count": 7,
     "metadata": {},
     "output_type": "execute_result"
    }
   ],
   "source": [
    "#read the vector file\n",
    "from pathlib import Path\n",
    "Path.cwd()"
   ]
  },
  {
   "cell_type": "code",
   "execution_count": 13,
   "metadata": {},
   "outputs": [],
   "source": [
    "vector_file = fiona.open('Polygon_sample/all.shp')"
   ]
  },
  {
   "cell_type": "code",
   "execution_count": 23,
   "metadata": {},
   "outputs": [
    {
     "name": "stdout",
     "output_type": "stream",
     "text": [
      "<open Collection 'Polygon_sample/all.shp:all', mode 'r' at 0x7f6bdb9f8f10>\n"
     ]
    }
   ],
   "source": [
    "#show the driver of the file(in which format)\n",
    "driver = vector_file\n",
    "print(driver)"
   ]
  },
  {
   "cell_type": "code",
   "execution_count": 15,
   "metadata": {},
   "outputs": [
    {
     "data": {
      "text/plain": [
       "{'properties': OrderedDict([('Name', 'str:254'),\n",
       "              ('src', 'str:254'),\n",
       "              ('Shape_Leng', 'float:19.11'),\n",
       "              ('Shape_Area', 'float:19.11'),\n",
       "              ('City', 'str:254')]),\n",
       " 'geometry': '3D Polygon'}"
      ]
     },
     "execution_count": 15,
     "metadata": {},
     "output_type": "execute_result"
    }
   ],
   "source": [
    "#show the schema of the file(schema - > tabel attribute)\n",
    "schema = vector_file.schema\n",
    "schema\n"
   ]
  },
  {
   "cell_type": "code",
   "execution_count": 16,
   "metadata": {},
   "outputs": [
    {
     "data": {
      "text/plain": [
       "{'init': 'epsg:4326'}"
      ]
     },
     "execution_count": 16,
     "metadata": {},
     "output_type": "execute_result"
    }
   ],
   "source": [
    "#show the coordinate system of the vector file\n",
    "crs=vector_file.crs\n",
    "crs"
   ]
  },
  {
   "cell_type": "code",
   "execution_count": 17,
   "metadata": {},
   "outputs": [
    {
     "data": {
      "text/plain": [
       "164"
      ]
     },
     "execution_count": 17,
     "metadata": {},
     "output_type": "execute_result"
    }
   ],
   "source": [
    "#show the feature of vector files\n",
    "#like it is a polygon file that means how many polygon\n",
    "#in the file or how many shape\n",
    "len(vector_file)\n"
   ]
  },
  {
   "cell_type": "code",
   "execution_count": 19,
   "metadata": {},
   "outputs": [],
   "source": [
    "#how to write a vector file suppose we have a csv file \n",
    "from shapely.geometry import Point, mapping"
   ]
  },
  {
   "cell_type": "code",
   "execution_count": 20,
   "metadata": {},
   "outputs": [],
   "source": [
    "from fiona.crs import from_epsg"
   ]
  },
  {
   "cell_type": "code",
   "execution_count": 21,
   "metadata": {},
   "outputs": [],
   "source": [
    "#1 create the scheme\n",
    "#2 crete the coordinate system\n",
    "\n",
    "#1\n",
    "\n",
    "schema={'geometry':'point',\n",
    "       'properties':{'labe':'str',\n",
    "                    'easting_xcord':'float',\n",
    "                    'notherning':'float',\n",
    "                    'elevation':'float'}}"
   ]
  },
  {
   "cell_type": "code",
   "execution_count": 22,
   "metadata": {},
   "outputs": [],
   "source": [
    "#from_epsg('crs code')\n",
    "crs=from_epsg(32643)\n"
   ]
  },
  {
   "cell_type": "code",
   "execution_count": null,
   "metadata": {},
   "outputs": [],
   "source": [
    "import csv\n",
    "with open('demo_test_data.csv', 'r') as file:  #read the csv file\n",
    "    csv_file = csv.reader(file)\n",
    "    for row in csv_file:\n",
    "        print(row)#print every row of csv file"
   ]
  },
  {
   "cell_type": "code",
   "execution_count": null,
   "metadata": {},
   "outputs": [],
   "source": [
    "#open the csv file  in reading mode\n",
    "with open('demo_test_data.csv', 'r') as file:\n",
    "    csv_file = csv.reader(file)\n",
    "    with fiona.open('output.shp', 'w', driver='shapefile', crs=crs, schema=schema) as soource:#output file with writing mode\n",
    "        for row in csv_file:\n",
    "            Point = Point(float(row[1]), float(row[2]))#row[1]->column1 and similarly row[2] -> col2\n",
    "            source.write('geometry':mapping[point],\n",
    "                        'properties':{'label':row[0],\n",
    "                                     'easting_xcord':float(row[1]),\n",
    "                                     'northing_ycord':float(row[2]),\n",
    "                                     'elevation':float(row[3])})\n",
    "            \n",
    "#after this a output file is created in shape format\n",
    "#you can see these file in qgis\n",
    "\n",
    "#this is how to read and write vector data using fiona and shapely"
   ]
  }
 ],
 "metadata": {
  "kernelspec": {
   "display_name": "Python 3.7.4 64-bit ('base': conda)",
   "language": "python",
   "name": "python37464bitbasecondab81fbf573973476eb86899c585e2e5dd"
  },
  "language_info": {
   "codemirror_mode": {
    "name": "ipython",
    "version": 3
   },
   "file_extension": ".py",
   "mimetype": "text/x-python",
   "name": "python",
   "nbconvert_exporter": "python",
   "pygments_lexer": "ipython3",
   "version": "3.7.4"
  }
 },
 "nbformat": 4,
 "nbformat_minor": 2
}
